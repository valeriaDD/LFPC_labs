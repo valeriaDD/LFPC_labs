{
  "nbformat": 4,
  "nbformat_minor": 0,
  "metadata": {
    "colab": {
      "name": "lab_1.ipynb",
      "provenance": [],
      "collapsed_sections": [],
      "authorship_tag": "ABX9TyMnBncYywf44PKnRkyY3oUw",
      "include_colab_link": true
    },
    "kernelspec": {
      "name": "python3",
      "display_name": "Python 3"
    },
    "language_info": {
      "name": "python"
    }
  },
  "cells": [
    {
      "cell_type": "markdown",
      "metadata": {
        "id": "view-in-github",
        "colab_type": "text"
      },
      "source": [
        "<a href=\"https://colab.research.google.com/github/valeriaDD/LFPC_labs/blob/main/lab1/lab_1.ipynb\" target=\"_parent\"><img src=\"https://colab.research.google.com/assets/colab-badge.svg\" alt=\"Open In Colab\"/></a>"
      ]
    },
    {
      "cell_type": "code",
      "execution_count": 221,
      "metadata": {
        "id": "lc9QYRtYCvrf",
        "colab": {
          "base_uri": "https://localhost:8080/"
        },
        "outputId": "27e21dde-3bdb-4d6d-e02a-82dc2843432b"
      },
      "outputs": [
        {
          "output_type": "stream",
          "name": "stdout",
          "text": [
            "S  --->  [['D', 'a']]\n",
            "D  --->  [['E', 'd'], ['J', 'b'], ['E', 'a']]\n",
            "J  --->  [['S', 'c']]\n",
            "E  --->  [['E', 'a'], ['finalNode', 'e']]\n"
          ]
        }
      ],
      "source": [
        "adj_list = {}\n",
        "edges = []\n",
        "\n",
        "nodesList = ['S', 'D', 'E', 'J', \"finalNode\"]\n",
        "\n",
        "def add_edge(node1, node2, weight):\n",
        "  temp = []\n",
        "  \n",
        "  if node1 not in adj_list:\n",
        "    temp.append([node2,weight])\n",
        "    adj_list[node1] = temp;\n",
        "\n",
        "\n",
        "  elif node1 in adj_list:\n",
        "    temp.extend(adj_list[node1]) #adds all the elements of list to the end of the list.\n",
        "    temp.append([node2,weight])\n",
        "    adj_list[node1] = temp  \n",
        "  \n",
        "  temp2 = (node1, node2, weight )\n",
        "  edges.append(temp2)\n",
        " \n",
        "def graph():\n",
        "  for node in adj_list:\n",
        "    print(node, \" ---> \", [values for values in adj_list[node]])\n",
        "\n",
        "\n",
        "\n",
        "add_edge('S','D','a')\n",
        "add_edge('D','E','d')\n",
        "add_edge('D','J','b')\n",
        "add_edge('D','E','a')\n",
        "add_edge('J','S','c')\n",
        "add_edge('E','E','a')\n",
        "add_edge('E',\"finalNode\",'e')\n",
        "\n",
        "graph()\n"
      ]
    },
    {
      "cell_type": "code",
      "source": [
        "import networkx as nx\n",
        "from networkx.drawing.nx_agraph import  to_agraph\n",
        "\n",
        "\n",
        "Graph = nx.MultiDiGraph()\n",
        "for edge in edges:\n",
        "  Graph.add_edge(edge[0], edge[1], label = edge[2])\n",
        "\n",
        "Graph.graph['edge'] = {'arrowsize': '0.5', 'splines': 'curved'}\n",
        "Graph.graph['graph'] = {'scale': '1'}\n",
        "                                                      \n",
        "A = to_agraph(Graph) \n",
        "A.layout('dot')                                                                 \n",
        "A.draw('FinalAutomation.png') \n"
      ],
      "metadata": {
        "id": "k3AaNl3kToNH"
      },
      "execution_count": 226,
      "outputs": []
    }
  ]
}