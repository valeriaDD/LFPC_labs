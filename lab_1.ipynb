{
  "nbformat": 4,
  "nbformat_minor": 0,
  "metadata": {
    "colab": {
      "name": "Untitled1.ipynb",
      "provenance": [],
      "collapsed_sections": [],
      "authorship_tag": "ABX9TyNWACDKopdCLO2mdlzVePeB",
      "include_colab_link": true
    },
    "kernelspec": {
      "name": "python3",
      "display_name": "Python 3"
    },
    "language_info": {
      "name": "python"
    }
  },
  "cells": [
    {
      "cell_type": "markdown",
      "metadata": {
        "id": "view-in-github",
        "colab_type": "text"
      },
      "source": [
        "<a href=\"https://colab.research.google.com/github/valeriaDD/LFPC_labs/blob/main/lab_1.ipynb\" target=\"_parent\"><img src=\"https://colab.research.google.com/assets/colab-badge.svg\" alt=\"Open In Colab\"/></a>"
      ]
    },
    {
      "cell_type": "code",
      "execution_count": 58,
      "metadata": {
        "id": "lc9QYRtYCvrf",
        "colab": {
          "base_uri": "https://localhost:8080/"
        },
        "outputId": "1656d271-897f-4e5c-92d9-6f85d3fea791"
      },
      "outputs": [
        {
          "output_type": "stream",
          "name": "stdout",
          "text": [
            "S  --->  [['D', 'a']]\n",
            "D  --->  [['E', 'd'], ['J', 'b'], ['E', 'a']]\n",
            "J  --->  [['S', 'c']]\n",
            "E  --->  [['E', 'a'], ['finalNode', 'e']]\n"
          ]
        }
      ],
      "source": [
        "adj_list = {}\n",
        "edge_labels ={}\n",
        "edges = []\n",
        "\n",
        "nodesList = ['S', 'D', 'E', 'J', \"finalNode\"]\n",
        "\n",
        " \n",
        "def add_edge(node1, node2, weight):\n",
        "  temp = []\n",
        "  temp2 = ()\n",
        "  \n",
        "  if node1 not in adj_list:\n",
        "    temp.append([node2,weight])\n",
        "    adj_list[node1] = temp;\n",
        "\n",
        "\n",
        "  elif node1 in adj_list:\n",
        "    temp.extend(adj_list[node1]) #adds all the elements of list to the end of the list.\n",
        "    temp.append([node2,weight])\n",
        "    adj_list[node1] = temp\n",
        "  \n",
        "  temp2 = (node1, node2)\n",
        "  edges.append(temp2)\n",
        "  edge_labels[temp2] = weight\n",
        "\n",
        "\n",
        " \n",
        "def graph():\n",
        "  for node in adj_list:\n",
        "    print(node, \" ---> \", [values for values in adj_list[node]])\n",
        "\n",
        "add_edge('S','D','a')\n",
        "add_edge('D','E','d')\n",
        "add_edge('D','J','b')\n",
        "add_edge('D','E','a')\n",
        "add_edge('J','S','c')\n",
        "add_edge('E','E','a')\n",
        "add_edge('E',\"finalNode\",'e')\n",
        "\n",
        "graph()"
      ]
    },
    {
      "cell_type": "code",
      "source": [
        "import matplotlib.pyplot as plt\n",
        "import networkx as nx\n",
        "\n",
        "G = nx.DiGraph()\n",
        "G.add_edges_from(edges)\n",
        "pos = nx.spring_layout(G)\n",
        "\n",
        "nx.draw( G, pos, labels={node: node for node in G.nodes()})\n",
        "nx.draw_networkx_edge_labels(G, pos, edge_labels)\n",
        "\n",
        "plt.show()"
      ],
      "metadata": {
        "colab": {
          "base_uri": "https://localhost:8080/",
          "height": 319
        },
        "id": "k3AaNl3kToNH",
        "outputId": "d5436e94-f4e9-4060-e96c-7472e7ff8d85"
      },
      "execution_count": 57,
      "outputs": [
        {
          "output_type": "display_data",
          "data": {
            "image/png": "[encoded data removed]",
            "text/plain": [
              "<Figure size 432x288 with 1 Axes>"
            ]
          },
          "metadata": {}
        }
      ]
    }
  ]
}